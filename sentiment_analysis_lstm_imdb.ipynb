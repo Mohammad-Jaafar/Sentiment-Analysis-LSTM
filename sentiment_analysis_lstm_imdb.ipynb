{
 "cells": [
  {
   "cell_type": "markdown",
   "id": "857b7be2",
   "metadata": {},
   "source": [
    "# Sentiment Analysis with LSTM on IMDB Dataset\n",
    "This notebook demonstrates how to build and train an LSTM-based neural network to classify movie reviews from the IMDB dataset into positive or negative sentiment.\n",
    "\n",
    "## Steps:\n",
    "1. Load and preprocess the IMDB dataset.\n",
    "2. Build an LSTM-based deep learning model.\n",
    "3. Train and evaluate the model.\n",
    "4. Save the model and configurations for future inference.\n"
   ]
  },
  {
   "cell_type": "markdown",
   "id": "49a9ab0d",
   "metadata": {},
   "source": [
    "## 1-Import Libraries"
   ]
  },
  {
   "cell_type": "code",
   "execution_count": null,
   "id": "bad7cd95",
   "metadata": {},
   "outputs": [],
   "source": [
    "import tensorflow as tf\n",
    "from tensorflow import keras\n",
    "from tensorflow.keras.datasets import imdb\n",
    "from tensorflow.keras.preprocessing import sequence\n",
    "from tensorflow.keras.models import Sequential\n",
    "from tensorflow.keras.layers import Embedding, LSTM, Dense, Dropout\n",
    "import pickle"
   ]
  },
  {
   "cell_type": "markdown",
   "id": "e903ecb4",
   "metadata": {},
   "source": [
    "## 2-Define Hyperparameters"
   ]
  },
  {
   "cell_type": "code",
   "execution_count": null,
   "id": "84d167c9",
   "metadata": {},
   "outputs": [],
   "source": [
    "MAX_FEATURES = 20000  # Vocabulary size\n",
    "MAX_LEN = 200         # Maximum review length\n",
    "EMBEDDING_DIM = 128\n",
    "BATCH_SIZE = 64\n",
    "EPOCHS = 10"
   ]
  },
  {
   "cell_type": "markdown",
   "id": "cd6cc2e5",
   "metadata": {},
   "source": [
    "## 3-Load and Explore the Dataset"
   ]
  },
  {
   "cell_type": "code",
   "execution_count": null,
   "id": "848302c9",
   "metadata": {},
   "outputs": [],
   "source": [
    "print(\"Loading IMDB dataset...\")\n",
    "(x_train, y_train), (x_test, y_test) = imdb.load_data(num_words=MAX_FEATURES)\n",
    "\n",
    "print(f\"Training samples: {len(x_train)}\")\n",
    "print(f\"Testing samples: {len(x_test)}\")"
   ]
  },
  {
   "cell_type": "markdown",
   "id": "40268efa",
   "metadata": {},
   "source": [
    "## 4-Preprocess Data (Filter & Pad Sequences)"
   ]
  },
  {
   "cell_type": "code",
   "execution_count": null,
   "id": "114ce8c7",
   "metadata": {},
   "outputs": [],
   "source": [
    "# Fix out-of-bounds indices\n",
    "print(\"Filtering out-of-bounds indices...\")\n",
    "x_train = [[idx if idx < MAX_FEATURES else 0 for idx in seq] for seq in x_train]\n",
    "x_test = [[idx if idx < MAX_FEATURES else 0 for idx in seq] for seq in x_test]\n",
    "\n",
    "# Pad sequences\n",
    "print(\"Padding sequences...\")\n",
    "x_train = sequence.pad_sequences(x_train, maxlen=MAX_LEN)\n",
    "x_test = sequence.pad_sequences(x_test, maxlen=MAX_LEN)\n",
    "\n",
    "print(f\"Training data shape: {x_train.shape}\")\n",
    "print(f\"Testing data shape: {x_test.shape}\")\n",
    "print(f\"Max value in data: {max(x_train.max(), x_test.max())}\")\n",
    "print(\"Data preprocessing complete!\")"
   ]
  },
  {
   "cell_type": "markdown",
   "id": "954f0e6b",
   "metadata": {},
   "source": [
    "## 5-Build the LSTM Model"
   ]
  },
  {
   "cell_type": "code",
   "execution_count": null,
   "id": "087e2a76",
   "metadata": {},
   "outputs": [],
   "source": [
    "print(\"Building LSTM model...\")\n",
    "\n",
    "model = Sequential([\n",
    "    Embedding(MAX_FEATURES, EMBEDDING_DIM, input_length=MAX_LEN),\n",
    "    LSTM(128, return_sequences=True),\n",
    "    LSTM(64),\n",
    "    Dense(64, activation='relu'),\n",
    "    Dropout(0.5),\n",
    "    Dense(1, activation='sigmoid')\n",
    "])\n",
    "\n",
    "model.compile(\n",
    "    optimizer=keras.optimizers.Adam(learning_rate=0.001),\n",
    "    loss='binary_crossentropy',\n",
    "    metrics=['accuracy']\n",
    ")\n",
    "\n",
    "model.summary()"
   ]
  },
  {
   "cell_type": "markdown",
   "id": "b63d7c94",
   "metadata": {},
   "source": [
    "## 6-Train the Model"
   ]
  },
  {
   "cell_type": "code",
   "execution_count": null,
   "id": "607281f3",
   "metadata": {},
   "outputs": [],
   "source": [
    "print(\"\\nGPU ready:\", len(tf.config.list_physical_devices('GPU')) > 0)\n",
    "print(\"Training model...\")\n",
    "\n",
    "history = model.fit(\n",
    "    x_train, y_train,\n",
    "    batch_size=BATCH_SIZE,\n",
    "    epochs=EPOCHS,\n",
    "    validation_split=0.2,\n",
    "    verbose=1\n",
    ")"
   ]
  },
  {
   "cell_type": "markdown",
   "id": "349cc650",
   "metadata": {},
   "source": [
    "## 7-Evaluate the Model"
   ]
  },
  {
   "cell_type": "code",
   "execution_count": null,
   "id": "a01cd4d3",
   "metadata": {},
   "outputs": [],
   "source": [
    "print(\"\\nEvaluating model...\")\n",
    "test_loss, test_accuracy = model.evaluate(x_test, y_test, verbose=0)\n",
    "print(f\"\\nTest Accuracy: {test_accuracy*100:.2f}%\")\n",
    "print(f\"Test Loss: {test_loss:.4f}\")"
   ]
  },
  {
   "cell_type": "markdown",
   "id": "e47a5cc7",
   "metadata": {},
   "source": [
    "## 8-Save Model and Configurations"
   ]
  },
  {
   "cell_type": "code",
   "execution_count": null,
   "id": "6bb4f6f7",
   "metadata": {},
   "outputs": [],
   "source": [
    "print(\"Saving model...\")\n",
    "\n",
    "# Save full model\n",
    "model.save('sentiment_lstm_model.keras')\n",
    "\n",
    "# Save weights & architecture separately\n",
    "model.save_weights('model_weights.h5')\n",
    "model_json = model.to_json()\n",
    "with open('model_architecture.json', 'w') as json_file:\n",
    "    json_file.write(model_json)\n",
    "\n",
    "# Save word index\n",
    "word_index = imdb.get_word_index()\n",
    "with open('word_index.pkl', 'wb') as f:\n",
    "    pickle.dump(word_index, f)\n",
    "\n",
    "# Save config\n",
    "config = {\n",
    "    'MAX_FEATURES': MAX_FEATURES,\n",
    "    'MAX_LEN': MAX_LEN,\n",
    "    'EMBEDDING_DIM': EMBEDDING_DIM\n",
    "}\n",
    "with open('config.pkl', 'wb') as f:\n",
    "    pickle.dump(config, f)\n",
    "\n",
    "print(\"All files saved successfully!\")"
   ]
  },
  {
   "cell_type": "markdown",
   "id": "6f7ddbea",
   "metadata": {},
   "source": [
    "## Conclusion\n",
    "- We trained an LSTM model on the IMDB dataset with an accuracy around **85–90%** (depending on hyperparameters).\n",
    "- The model and configurations were saved for future use.\n",
    "- This notebook can serve as a template for other sequence classification tasks."
   ]
  }
 ],
 "metadata": {
  "language_info": {
   "name": "python"
  }
 },
 "nbformat": 4,
 "nbformat_minor": 5
}
